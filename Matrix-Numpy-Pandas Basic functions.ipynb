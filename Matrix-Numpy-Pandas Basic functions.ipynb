{
 "cells": [
  {
   "cell_type": "markdown",
   "id": "92ff658c",
   "metadata": {},
   "source": [
    "# 1 Matrices and Numpy"
   ]
  },
  {
   "cell_type": "markdown",
   "id": "c8fe5cb4",
   "metadata": {},
   "source": [
    "## 1.1 Matrices Theory"
   ]
  },
  {
   "cell_type": "markdown",
   "id": "76e9a434",
   "metadata": {},
   "source": [
    "### 1.1.1 Properties of matrices"
   ]
  },
  {
   "cell_type": "markdown",
   "id": "0e5ed7d8",
   "metadata": {},
   "source": [
    "#### Consider A,B are two matrices \n",
    "- Addition(If A and B matrices of same order):\n",
    "    - A + B  = C , where C is a matrix of same order\n",
    "    - Commutative: A + B = B + A\n",
    "    - Associative: (A+B)+C = A+(B+C)\n",
    "    \n",
    "- scalar multiplication(let k be a scalar and A and B are matrices of same order): \n",
    "    - k * A = kA\n",
    "    - k(A+B) = kA + kB\n",
    "    - if k and l are 2 scalars, (k+1)A = kA+ lA\n",
    "- matrix multiplication:\n",
    "    - Matrices in chain can olny be multiplied,if the coulmn dimensions of a matrix match the row dimensions of the following matrix in chain.\n",
    "    - If matrix A is of order mxn and matrix B of order nxp, the product AB is equal to matric C of order mxp\n",
    "    - Associative: A.(B.C) = (A.B).C\n",
    "    - Distributive: A(B+C) = AB + AC\n",
    "    - Not Commutative: A.B != B.A\n",
    "    - Transpose: (AB)^T = B^T * A^T\n",
    "- Transpose:\n",
    "    - (A')' = A\n",
    "    - (kA)' = kA'\n",
    "    - (A+B)' = A' + B'\n",
    "    - (AB)' = B' * A'"
   ]
  },
  {
   "cell_type": "markdown",
   "id": "9256d291",
   "metadata": {},
   "source": [
    "### 1.1.2 Python function to get a matrix from user"
   ]
  },
  {
   "cell_type": "code",
   "execution_count": 150,
   "id": "290d7399",
   "metadata": {},
   "outputs": [],
   "source": [
    "# get matrix dimensions\n",
    "class PyMatrix:\n",
    "    def __init__(self, rows=0, cols=0):\n",
    "        self.rows = int(rows)\n",
    "        self.cols = int(cols)\n",
    "        \n",
    "    def getMatrixDimensions(self):\n",
    "        self.rows = int(input(\"Enter # of rows:\"))\n",
    "        self.cols = int(input(\"Enter # of columns\"))\n",
    "        \n",
    "    def getMatrix(self):\n",
    "        matrix = []\n",
    "        for i in range (0,self.rows):\n",
    "            temp = []\n",
    "            for j in range (0,self.cols):\n",
    "                temp.append(int(input()))\n",
    "            matrix.append(temp)\n",
    "        return matrix\n",
    "        "
   ]
  },
  {
   "cell_type": "markdown",
   "id": "198cda60",
   "metadata": {},
   "source": [
    "### 1.1.3 Get two matrices from the user "
   ]
  },
  {
   "cell_type": "code",
   "execution_count": 151,
   "id": "4b231cc9",
   "metadata": {},
   "outputs": [
    {
     "name": "stdout",
     "output_type": "stream",
     "text": [
      "Enter # of rows:3\n",
      "Enter # of columns3\n",
      "2\n",
      "3\n",
      "5\n",
      "23\n",
      "3\n",
      "5\n",
      "5\n",
      "7\n",
      "8\n",
      "Matrix A: [[2, 3, 5], [23, 3, 5], [5, 7, 8]]\n",
      "Enter # of rows:3\n",
      "Enter # of columns3\n",
      "1\n",
      "2\n",
      "3\n",
      "4\n",
      "5\n",
      "6\n",
      "7\n",
      "8\n",
      "9\n",
      "Matrix B: [[1, 2, 3], [4, 5, 6], [7, 8, 9]]\n"
     ]
    }
   ],
   "source": [
    "# get values for matrix A\n",
    "obj_A = PyMatrix()\n",
    "obj_A.getMatrixDimensions()\n",
    "A = obj_A.getMatrix()\n",
    "print(\"Matrix A:\", A)\n",
    "\n",
    "obj_B = PyMatrix()\n",
    "obj_B.getMatrixDimensions()\n",
    "B = obj_B.getMatrix()\n",
    "print(\"Matrix B:\", B)"
   ]
  },
  {
   "cell_type": "markdown",
   "id": "cfbe1e9d",
   "metadata": {},
   "source": [
    "#### 1.2 Matrix manipulation without using Numpy"
   ]
  },
  {
   "cell_type": "code",
   "execution_count": 190,
   "id": "9f20bcbc",
   "metadata": {},
   "outputs": [],
   "source": [
    "#functions\n",
    "\n",
    "#multiplication\n",
    "def matrixMultiplication(A,B):\n",
    "    res = []\n",
    "    if(type(A) != list and type(B) != list):\n",
    "        # both are scalar\n",
    "        return A*B\n",
    "    elif(type(A) != list or type(B) != list):\n",
    "        \n",
    "        #either is scalar\n",
    "        lst = A\n",
    "        scalar = B\n",
    "        if(type(A) != list):\n",
    "            lst = B\n",
    "            scalar = A\n",
    "        # check for 1D or 2D\n",
    "        flag_2d = False\n",
    "        if(type(lst[0]) == list):\n",
    "            flag_2d = True\n",
    "        if(flag_2d):  \n",
    "            for row in lst:\n",
    "                temp = []\n",
    "                for val in row:\n",
    "                    temp.append(scalar * val)\n",
    "                res.append(temp)\n",
    "        else:\n",
    "            for val in lst:\n",
    "                res.append(scalar * val)\n",
    "                \n",
    "        return res\n",
    "    elif(type(A) == list and type(A[0]) == list and type(B) == list and type(B[0]) == list):\n",
    "\n",
    "        #perform checks\n",
    "        A_row = len(A)\n",
    "        A_col = len(A[0])\n",
    "\n",
    "        B_row = len(B)\n",
    "        B_col = len(B[0])\n",
    "        \n",
    "        #define result matrix\n",
    "        result = [([0]*B_col) for i in range(A_row)]\n",
    "        \n",
    "        #if matrix is mxn and not compatible -> return message\n",
    "        if(A_col != B_row):         \n",
    "            return \"Matrix multiplication is not possible as column of matrix A do not match row of B\"\n",
    "        #if matrix is mxn and compatible -> matrix multiplication\n",
    "        else: \n",
    "            for i in range(0, A_row):\n",
    "                for j in range(0, B_col):\n",
    "                    for k in range(0, B_row):\n",
    "                        result[i][j] += (A[i][k] * B[k][j])\n",
    "            return result\n",
    "\n",
    "\n",
    "# transpose\n",
    "def transpose(A):\n",
    "    res = []\n",
    "    for i in range(0, len(A)):\n",
    "        lst = []\n",
    "        for j in range(0, len(A[0])):\n",
    "            lst.append(A[j][i])\n",
    "        res.append(lst)\n",
    "    return res\n",
    "\n",
    "#cofactor\n",
    "def cofactor(A,i,j):\n",
    "    res = []\n",
    "    sub = A[:i]+A[i+1:] # remove row i\n",
    "    for row in sub:\n",
    "        res.append(row[:j]+row[j+1:]) #remove j\n",
    "    return res\n",
    "    \n",
    "    \n",
    "#determinant\n",
    "def determinant(A):\n",
    "    det = 0\n",
    "    if(len(A) != len(A[0])):\n",
    "        return \"Determinant cannot be computed for non-square matrix\"\n",
    "    if(len(A) == 2):\n",
    "        ad = A[0][0]*A[1][1]\n",
    "        cb = A[0][1]*A[1][0]\n",
    "        return (ad-cb)\n",
    "    \n",
    "    for col in range(0, len(A)):\n",
    "        prefix = -1\n",
    "        if(col == 0 or col % 2 == 0):\n",
    "            prefix = 1\n",
    "        temp = determinant(cofactor(A,0,col))\n",
    "        prod = temp * A[0][col] * prefix\n",
    "        det+=prod\n",
    "        \n",
    "    return det\n",
    "#cofactor matrix\n",
    "\n",
    "def cofactorMatrix(A):\n",
    "    c_mat = []\n",
    "    if(len(A) != len(A[0])):\n",
    "        return \"cofactor matrix cannot be computed for non-square matrix\"\n",
    "    if(len(A) == 2):\n",
    "        ad = A[0][0]*A[1][1]\n",
    "        cb = A[0][1]*A[1][0]\n",
    "        return (ad-cb)\n",
    "    for row in range(0, len(A)):\n",
    "        temp = []\n",
    "        for col in range(0, len(A)):\n",
    "            prefix = -1 ** (row+col)\n",
    "            val = cofactorMatrix(cofactor(A,row,col))\n",
    "            temp.append(val)\n",
    "        c_mat.append(temp)\n",
    "    return c_mat\n",
    "            \n",
    "            \n",
    "#inverse\n",
    "def inverse(A):\n",
    "    \n",
    "    #check if matrix is square\n",
    "    if(len(A) != len(A[0])):\n",
    "        return \"Inverse cannot be computed for non-square matrix\"\n",
    "\n",
    "    # check if matrix is singular\n",
    "    det = determinant(A)\n",
    "    if(det == 0):\n",
    "        return \"Inverse cannot be computed for Singular matrix\"\n",
    "\n",
    "    # cofactor\n",
    "    c_mat = cofactorMatrix(A)\n",
    "\n",
    "    #adjoint - cofactor transpose\n",
    "    adj = transpose(c_mat)\n",
    "\n",
    "\n",
    "    #multiple (1/det) with adjoint\n",
    "    inv = matrixMultiplication(1/det, adj)\n",
    "    \n",
    "    return inv\n",
    "\n",
    "# power\n",
    "def powerOfMatrix(A,n):\n",
    "    #check if square\n",
    "    if(len(A) != len(A[0])):\n",
    "        return \"Exponentiation cannot be computed for non-square matrix\"\n",
    "    # if n is 0, return identity matrix of same order\n",
    "    if(n == 0):\n",
    "        result = []\n",
    "        for row in range(len(A)):\n",
    "            temp = []\n",
    "            for col in range(len(A)):\n",
    "                if(row == col):\n",
    "                    temp.append(1)\n",
    "                else:\n",
    "                    temp.append(0)\n",
    "            result.append(temp)\n",
    "        return result       \n",
    "    if(n == 1):\n",
    "        return A\n",
    "    if(n > 1):\n",
    "        power = n\n",
    "        \n",
    "        result = A\n",
    "        while(power > 1):\n",
    "            result = matrixMultiplication(result,A)\n",
    "            power = power-1\n",
    "            \n",
    "        return result\n",
    "    # if n is negative, calculate inverse of matrix and power\n",
    "    if(n < 0):\n",
    "        return \"inverse\"\n",
    "        #check if inverse can be calculated\n",
    "        inv = inverse(A)\n",
    "        #if yes return A inverse to the power n\n",
    "        if(type(inv) != list):\n",
    "            return \"power of sigular matrix cannot be computed\"\n",
    "        # if false, return statement\n",
    "        \n",
    "        power = n\n",
    "        if(power == 1):\n",
    "            return inv\n",
    "\n",
    "        result = A\n",
    "        while(power > 1):\n",
    "            result = matrixMultiplication(result,A)\n",
    "            power = power-1\n",
    "            \n",
    "        return result\n",
    "        \n",
    "#addition\n",
    "def addition(A,B):\n",
    "    #check if dimensions are same\n",
    "\n",
    "    if(len(A) != len(B) or len(A[0]) != len(B[0])):\n",
    "        return \"Matrices of different dimensions cannot be added\"\n",
    "    res = []\n",
    "    for i in range(0,len(A)):\n",
    "        temp = []\n",
    "        for j in range(0, len(A[0])):\n",
    "            temp.append(A[i][j] + B[i][j])\n",
    "        res.append(temp)\n",
    "    return res\n",
    "            \n"
   ]
  },
  {
   "cell_type": "markdown",
   "id": "ac171f5b",
   "metadata": {},
   "source": [
    "### 1.2.1 Perform A^n (n is a user entered values)"
   ]
  },
  {
   "cell_type": "code",
   "execution_count": 153,
   "id": "779f82b5",
   "metadata": {},
   "outputs": [
    {
     "name": "stdout",
     "output_type": "stream",
     "text": [
      "Enter power: 3\n",
      "[[1671, 899, 1260], [3729, 1949, 2625], [3158, 1777, 2507]]\n"
     ]
    }
   ],
   "source": [
    "# get n from user\n",
    "n = int(input(\"Enter power: \"))\n",
    "print(powerOfMatrix(A,n))"
   ]
  },
  {
   "cell_type": "markdown",
   "id": "b4a27703",
   "metadata": {},
   "source": [
    "### 1.2.2 Perform A Transpose"
   ]
  },
  {
   "cell_type": "code",
   "execution_count": 154,
   "id": "84f7edf2",
   "metadata": {},
   "outputs": [
    {
     "name": "stdout",
     "output_type": "stream",
     "text": [
      "[[2, 23, 5], [3, 3, 7], [5, 5, 8]]\n"
     ]
    }
   ],
   "source": [
    "print(transpose(A))"
   ]
  },
  {
   "cell_type": "markdown",
   "id": "7d61b20a",
   "metadata": {},
   "source": [
    "### 1.2.3  Determinant of A"
   ]
  },
  {
   "cell_type": "code",
   "execution_count": 155,
   "id": "4f524315",
   "metadata": {},
   "outputs": [
    {
     "name": "stdout",
     "output_type": "stream",
     "text": [
      "231\n"
     ]
    }
   ],
   "source": [
    "print(determinant(A))"
   ]
  },
  {
   "cell_type": "markdown",
   "id": "eb6cba5d",
   "metadata": {},
   "source": [
    "### 1.2.4  A Inverse "
   ]
  },
  {
   "cell_type": "code",
   "execution_count": 191,
   "id": "a8d9a178",
   "metadata": {},
   "outputs": [
    {
     "name": "stdout",
     "output_type": "stream",
     "text": [
      "[[-0.047619047619047616, -0.047619047619047616, 0.0], [0.6883116883116883, -0.03896103896103896, -0.45454545454545453], [0.6320346320346321, -0.004329004329004329, -0.2727272727272727]]\n"
     ]
    }
   ],
   "source": [
    "print(inverse(A))"
   ]
  },
  {
   "cell_type": "markdown",
   "id": "0db84413",
   "metadata": {},
   "source": [
    "### 1.2.5  A*B "
   ]
  },
  {
   "cell_type": "code",
   "execution_count": 157,
   "id": "44f64e2a",
   "metadata": {},
   "outputs": [
    {
     "name": "stdout",
     "output_type": "stream",
     "text": [
      "[[49, 59, 69], [70, 101, 132], [89, 109, 129]]\n"
     ]
    }
   ],
   "source": [
    "print(matrixMultiplication(A,B))"
   ]
  },
  {
   "cell_type": "markdown",
   "id": "8f0e87c8",
   "metadata": {},
   "source": [
    "### 1.2.6  A+B "
   ]
  },
  {
   "cell_type": "code",
   "execution_count": 158,
   "id": "43b5a2f9",
   "metadata": {},
   "outputs": [
    {
     "name": "stdout",
     "output_type": "stream",
     "text": [
      "[[3, 5, 8], [27, 8, 11], [12, 15, 17]]\n"
     ]
    }
   ],
   "source": [
    "print(addition(A,B))"
   ]
  },
  {
   "cell_type": "markdown",
   "id": "e1084cfb",
   "metadata": {},
   "source": [
    "## 1.3 Matrix manipulation using Numpy\n"
   ]
  },
  {
   "cell_type": "code",
   "execution_count": 159,
   "id": "eef00471",
   "metadata": {},
   "outputs": [],
   "source": [
    "import numpy as np\n",
    "from numpy.linalg import matrix_power\n",
    "from numpy.linalg import det,inv"
   ]
  },
  {
   "cell_type": "markdown",
   "id": "bfa2f1a3",
   "metadata": {},
   "source": [
    "### 1.3.1 all the operations using Numpy"
   ]
  },
  {
   "cell_type": "code",
   "execution_count": 160,
   "id": "ad664421",
   "metadata": {},
   "outputs": [
    {
     "name": "stdout",
     "output_type": "stream",
     "text": [
      "Enter power: 3\n",
      "Matrix A raised to  3\n",
      "[[1671  899 1260]\n",
      " [3729 1949 2625]\n",
      " [3158 1777 2507]]\n"
     ]
    }
   ],
   "source": [
    "# get n from user\n",
    "n = int(input(\"Enter power: \"))\n",
    "\n",
    "#power \n",
    "np_A = np.array(A)\n",
    "print(\"Matrix A raised to \", n)\n",
    "print(matrix_power(np_A, n))  "
   ]
  },
  {
   "cell_type": "code",
   "execution_count": 161,
   "id": "45b0b27e",
   "metadata": {},
   "outputs": [
    {
     "name": "stdout",
     "output_type": "stream",
     "text": [
      "transpose of matrix A\n",
      "[[2, 23, 5], [3, 3, 7], [5, 5, 8]]\n"
     ]
    }
   ],
   "source": [
    "#transpose\n",
    "print(\"transpose of matrix A\")\n",
    "print(transpose(np_A))"
   ]
  },
  {
   "cell_type": "code",
   "execution_count": 162,
   "id": "a075467a",
   "metadata": {},
   "outputs": [
    {
     "name": "stdout",
     "output_type": "stream",
     "text": [
      "determinant of matrix A\n",
      "230.99999999999994\n"
     ]
    }
   ],
   "source": [
    "#determinant\n",
    "print(\"determinant of matrix A\")\n",
    "print(det(A))"
   ]
  },
  {
   "cell_type": "code",
   "execution_count": 163,
   "id": "284c389d",
   "metadata": {},
   "outputs": [
    {
     "name": "stdout",
     "output_type": "stream",
     "text": [
      "Inverse of matrix A\n",
      "[[-4.76190476e-02  4.76190476e-02  9.65411326e-18]\n",
      " [-6.88311688e-01 -3.89610390e-02  4.54545455e-01]\n",
      " [ 6.32034632e-01  4.32900433e-03 -2.72727273e-01]]\n"
     ]
    }
   ],
   "source": [
    "#inverse\n",
    "print(\"Inverse of matrix A\")\n",
    "try:\n",
    "    print(inv(A))\n",
    "except:\n",
    "    print(\"Matrix is singular\")"
   ]
  },
  {
   "cell_type": "code",
   "execution_count": 164,
   "id": "dbae4415",
   "metadata": {},
   "outputs": [
    {
     "name": "stdout",
     "output_type": "stream",
     "text": [
      "Matrix multiplication of matrix A and B\n"
     ]
    }
   ],
   "source": [
    "#multiplication\n",
    "print(\"Matrix multiplication of matrix A and B\")\n",
    "C = np.dot(A,B)"
   ]
  },
  {
   "cell_type": "code",
   "execution_count": 165,
   "id": "ea42d840",
   "metadata": {},
   "outputs": [
    {
     "name": "stdout",
     "output_type": "stream",
     "text": [
      "Matrix addition\n",
      "[[ 3  5  8]\n",
      " [27  8 11]\n",
      " [12 15 17]]\n"
     ]
    }
   ],
   "source": [
    "#addition\n",
    "print(\"Matrix addition\")\n",
    "try:\n",
    "    print(np.add(A,B, where=True))\n",
    "except ValueError:\n",
    "    print(\"Matrix should be of same order\")"
   ]
  },
  {
   "cell_type": "markdown",
   "id": "3bd0265c",
   "metadata": {},
   "source": [
    "### 1.3.2  Numpy: Reduced Mean, Reduced Sum, Argmax, Zip and One Hot Encoding"
   ]
  },
  {
   "cell_type": "code",
   "execution_count": 166,
   "id": "912785d9",
   "metadata": {},
   "outputs": [
    {
     "name": "stdout",
     "output_type": "stream",
     "text": [
      "Mean of C:  89.66666666666667\n",
      "Sum of C:  807\n",
      "Argmax of C:  5\n"
     ]
    }
   ],
   "source": [
    "# mean\n",
    "print(\"Mean of C: \", np.mean(C))\n",
    "\n",
    "#sum\n",
    "print(\"Sum of C: \", np.sum(C))\n",
    "\n",
    "#argmax\n",
    "print(\"Argmax of C: \", np.argmax(C))\n",
    "\n"
   ]
  },
  {
   "cell_type": "code",
   "execution_count": 167,
   "id": "eb3783c9",
   "metadata": {},
   "outputs": [
    {
     "name": "stdout",
     "output_type": "stream",
     "text": [
      "     sepal_length  sepal_width  petal_length  petal_width    species\n",
      "0             5.1          3.5           1.4          0.2     setosa\n",
      "1             4.9          3.0           1.4          0.2     setosa\n",
      "2             4.7          3.2           1.3          0.2     setosa\n",
      "3             4.6          3.1           1.5          0.2     setosa\n",
      "4             5.0          3.6           1.4          0.2     setosa\n",
      "..            ...          ...           ...          ...        ...\n",
      "145           6.7          3.0           5.2          2.3  virginica\n",
      "146           6.3          2.5           5.0          1.9  virginica\n",
      "147           6.5          3.0           5.2          2.0  virginica\n",
      "148           6.2          3.4           5.4          2.3  virginica\n",
      "149           5.9          3.0           5.1          1.8  virginica\n",
      "\n",
      "[150 rows x 5 columns]\n"
     ]
    }
   ],
   "source": [
    "import pandas as pd\n",
    "import seaborn as sns \n",
    "\n",
    "#load data\n",
    "data = sns.load_dataset(\"iris\")\n",
    "print(data)"
   ]
  },
  {
   "cell_type": "code",
   "execution_count": 168,
   "id": "05972493",
   "metadata": {},
   "outputs": [
    {
     "name": "stdout",
     "output_type": "stream",
     "text": [
      "[(5.1, 3.5), (4.9, 3.0), (4.7, 3.2), (4.6, 3.1), (5.0, 3.6), (5.4, 3.9), (4.6, 3.4), (5.0, 3.4), (4.4, 2.9), (4.9, 3.1), (5.4, 3.7), (4.8, 3.4), (4.8, 3.0), (4.3, 3.0), (5.8, 4.0), (5.7, 4.4), (5.4, 3.9), (5.1, 3.5), (5.7, 3.8), (5.1, 3.8), (5.4, 3.4), (5.1, 3.7), (4.6, 3.6), (5.1, 3.3), (4.8, 3.4), (5.0, 3.0), (5.0, 3.4), (5.2, 3.5), (5.2, 3.4), (4.7, 3.2), (4.8, 3.1), (5.4, 3.4), (5.2, 4.1), (5.5, 4.2), (4.9, 3.1), (5.0, 3.2), (5.5, 3.5), (4.9, 3.6), (4.4, 3.0), (5.1, 3.4), (5.0, 3.5), (4.5, 2.3), (4.4, 3.2), (5.0, 3.5), (5.1, 3.8), (4.8, 3.0), (5.1, 3.8), (4.6, 3.2), (5.3, 3.7), (5.0, 3.3), (7.0, 3.2), (6.4, 3.2), (6.9, 3.1), (5.5, 2.3), (6.5, 2.8), (5.7, 2.8), (6.3, 3.3), (4.9, 2.4), (6.6, 2.9), (5.2, 2.7), (5.0, 2.0), (5.9, 3.0), (6.0, 2.2), (6.1, 2.9), (5.6, 2.9), (6.7, 3.1), (5.6, 3.0), (5.8, 2.7), (6.2, 2.2), (5.6, 2.5), (5.9, 3.2), (6.1, 2.8), (6.3, 2.5), (6.1, 2.8), (6.4, 2.9), (6.6, 3.0), (6.8, 2.8), (6.7, 3.0), (6.0, 2.9), (5.7, 2.6), (5.5, 2.4), (5.5, 2.4), (5.8, 2.7), (6.0, 2.7), (5.4, 3.0), (6.0, 3.4), (6.7, 3.1), (6.3, 2.3), (5.6, 3.0), (5.5, 2.5), (5.5, 2.6), (6.1, 3.0), (5.8, 2.6), (5.0, 2.3), (5.6, 2.7), (5.7, 3.0), (5.7, 2.9), (6.2, 2.9), (5.1, 2.5), (5.7, 2.8), (6.3, 3.3), (5.8, 2.7), (7.1, 3.0), (6.3, 2.9), (6.5, 3.0), (7.6, 3.0), (4.9, 2.5), (7.3, 2.9), (6.7, 2.5), (7.2, 3.6), (6.5, 3.2), (6.4, 2.7), (6.8, 3.0), (5.7, 2.5), (5.8, 2.8), (6.4, 3.2), (6.5, 3.0), (7.7, 3.8), (7.7, 2.6), (6.0, 2.2), (6.9, 3.2), (5.6, 2.8), (7.7, 2.8), (6.3, 2.7), (6.7, 3.3), (7.2, 3.2), (6.2, 2.8), (6.1, 3.0), (6.4, 2.8), (7.2, 3.0), (7.4, 2.8), (7.9, 3.8), (6.4, 2.8), (6.3, 2.8), (6.1, 2.6), (7.7, 3.0), (6.3, 3.4), (6.4, 3.1), (6.0, 3.0), (6.9, 3.1), (6.7, 3.1), (6.9, 3.1), (5.8, 2.7), (6.8, 3.2), (6.7, 3.3), (6.7, 3.0), (6.3, 2.5), (6.5, 3.0), (6.2, 3.4), (5.9, 3.0)]\n",
      "[[1, 0, 0], [1, 0, 0], [1, 0, 0], [1, 0, 0], [1, 0, 0], [1, 0, 0], [1, 0, 0], [1, 0, 0], [1, 0, 0], [1, 0, 0], [1, 0, 0], [1, 0, 0], [1, 0, 0], [1, 0, 0], [1, 0, 0], [1, 0, 0], [1, 0, 0], [1, 0, 0], [1, 0, 0], [1, 0, 0], [1, 0, 0], [1, 0, 0], [1, 0, 0], [1, 0, 0], [1, 0, 0], [1, 0, 0], [1, 0, 0], [1, 0, 0], [1, 0, 0], [1, 0, 0], [1, 0, 0], [1, 0, 0], [1, 0, 0], [1, 0, 0], [1, 0, 0], [1, 0, 0], [1, 0, 0], [1, 0, 0], [1, 0, 0], [1, 0, 0], [1, 0, 0], [1, 0, 0], [1, 0, 0], [1, 0, 0], [1, 0, 0], [1, 0, 0], [1, 0, 0], [1, 0, 0], [1, 0, 0], [1, 0, 0], [0, 1, 0], [0, 1, 0], [0, 1, 0], [0, 1, 0], [0, 1, 0], [0, 1, 0], [0, 1, 0], [0, 1, 0], [0, 1, 0], [0, 1, 0], [0, 1, 0], [0, 1, 0], [0, 1, 0], [0, 1, 0], [0, 1, 0], [0, 1, 0], [0, 1, 0], [0, 1, 0], [0, 1, 0], [0, 1, 0], [0, 1, 0], [0, 1, 0], [0, 1, 0], [0, 1, 0], [0, 1, 0], [0, 1, 0], [0, 1, 0], [0, 1, 0], [0, 1, 0], [0, 1, 0], [0, 1, 0], [0, 1, 0], [0, 1, 0], [0, 1, 0], [0, 1, 0], [0, 1, 0], [0, 1, 0], [0, 1, 0], [0, 1, 0], [0, 1, 0], [0, 1, 0], [0, 1, 0], [0, 1, 0], [0, 1, 0], [0, 1, 0], [0, 1, 0], [0, 1, 0], [0, 1, 0], [0, 1, 0], [0, 1, 0], [0, 0, 1], [0, 0, 1], [0, 0, 1], [0, 0, 1], [0, 0, 1], [0, 0, 1], [0, 0, 1], [0, 0, 1], [0, 0, 1], [0, 0, 1], [0, 0, 1], [0, 0, 1], [0, 0, 1], [0, 0, 1], [0, 0, 1], [0, 0, 1], [0, 0, 1], [0, 0, 1], [0, 0, 1], [0, 0, 1], [0, 0, 1], [0, 0, 1], [0, 0, 1], [0, 0, 1], [0, 0, 1], [0, 0, 1], [0, 0, 1], [0, 0, 1], [0, 0, 1], [0, 0, 1], [0, 0, 1], [0, 0, 1], [0, 0, 1], [0, 0, 1], [0, 0, 1], [0, 0, 1], [0, 0, 1], [0, 0, 1], [0, 0, 1], [0, 0, 1], [0, 0, 1], [0, 0, 1], [0, 0, 1], [0, 0, 1], [0, 0, 1], [0, 0, 1], [0, 0, 1], [0, 0, 1], [0, 0, 1], [0, 0, 1]]\n"
     ]
    }
   ],
   "source": [
    "\n",
    "#zip\n",
    "sepal_zip = zip(data.sepal_length,data.sepal_width)\n",
    "print(list(sepal_zip))\n",
    "\n",
    "#onehotencoding\n",
    "def onehotencoding(col):\n",
    "    #get unique values from col\n",
    "    unique_val = dict((c,i) for i,c in enumerate(np.unique(col)))\n",
    "    \n",
    "    #convert char to int\n",
    "    int_enc = []\n",
    "    for c in col:\n",
    "        int_enc.append(unique_val[c])\n",
    "    \n",
    "    ohe = []\n",
    "    #convert int to one hot\n",
    "    for val in int_enc:\n",
    "        sepal = [0]*len(unique_val)\n",
    "        sepal[val] = 1\n",
    "        ohe.append(sepal)\n",
    "    \n",
    "    return ohe\n",
    "\n",
    "print(onehotencoding(data.species))\n"
   ]
  },
  {
   "cell_type": "markdown",
   "id": "619a83f5",
   "metadata": {},
   "source": [
    "# 2 Pandas"
   ]
  },
  {
   "cell_type": "markdown",
   "id": "afee25b3",
   "metadata": {},
   "source": [
    "## 2.1 read a csv data to pandas dataframe (data 1)"
   ]
  },
  {
   "cell_type": "code",
   "execution_count": 169,
   "id": "27f38448",
   "metadata": {},
   "outputs": [
    {
     "name": "stdout",
     "output_type": "stream",
     "text": [
      "         col_0     col_1\n",
      "0    -0.752400 -1.992827\n",
      "1    -0.702025 -1.935445\n",
      "2     0.058185 -1.020321\n",
      "3    -0.097662 -1.857889\n",
      "4    -0.369050  0.209050\n",
      "...        ...       ...\n",
      "9995  0.106437 -1.723467\n",
      "9996 -0.535412 -2.009323\n",
      "9997  1.358514  4.867444\n",
      "9998  0.668055  2.753525\n",
      "9999  0.190843  2.156421\n",
      "\n",
      "[10000 rows x 2 columns]\n"
     ]
    }
   ],
   "source": [
    "df_1 = pd.read_csv('data_1.csv',header=None)\n",
    "df_1.columns = [\"col_0\",\"col_1\"]\n",
    "print(df_1)"
   ]
  },
  {
   "cell_type": "markdown",
   "id": "07c81d43",
   "metadata": {},
   "source": [
    "## 2.2 pandas functions \n",
    "\n",
    "https://pandas.pydata.org/docs/reference/general_functions.html"
   ]
  },
  {
   "cell_type": "code",
   "execution_count": 83,
   "id": "b802a4c9",
   "metadata": {},
   "outputs": [
    {
     "data": {
      "text/html": [
       "<div>\n",
       "<style scoped>\n",
       "    .dataframe tbody tr th:only-of-type {\n",
       "        vertical-align: middle;\n",
       "    }\n",
       "\n",
       "    .dataframe tbody tr th {\n",
       "        vertical-align: top;\n",
       "    }\n",
       "\n",
       "    .dataframe thead th {\n",
       "        text-align: right;\n",
       "    }\n",
       "</style>\n",
       "<table border=\"1\" class=\"dataframe\">\n",
       "  <thead>\n",
       "    <tr style=\"text-align: right;\">\n",
       "      <th></th>\n",
       "      <th>0</th>\n",
       "      <th>1</th>\n",
       "    </tr>\n",
       "  </thead>\n",
       "  <tbody>\n",
       "    <tr>\n",
       "      <th>0</th>\n",
       "      <td>False</td>\n",
       "      <td>False</td>\n",
       "    </tr>\n",
       "    <tr>\n",
       "      <th>1</th>\n",
       "      <td>False</td>\n",
       "      <td>False</td>\n",
       "    </tr>\n",
       "    <tr>\n",
       "      <th>2</th>\n",
       "      <td>False</td>\n",
       "      <td>False</td>\n",
       "    </tr>\n",
       "    <tr>\n",
       "      <th>3</th>\n",
       "      <td>False</td>\n",
       "      <td>False</td>\n",
       "    </tr>\n",
       "    <tr>\n",
       "      <th>4</th>\n",
       "      <td>False</td>\n",
       "      <td>False</td>\n",
       "    </tr>\n",
       "    <tr>\n",
       "      <th>...</th>\n",
       "      <td>...</td>\n",
       "      <td>...</td>\n",
       "    </tr>\n",
       "    <tr>\n",
       "      <th>9995</th>\n",
       "      <td>False</td>\n",
       "      <td>False</td>\n",
       "    </tr>\n",
       "    <tr>\n",
       "      <th>9996</th>\n",
       "      <td>False</td>\n",
       "      <td>False</td>\n",
       "    </tr>\n",
       "    <tr>\n",
       "      <th>9997</th>\n",
       "      <td>False</td>\n",
       "      <td>False</td>\n",
       "    </tr>\n",
       "    <tr>\n",
       "      <th>9998</th>\n",
       "      <td>False</td>\n",
       "      <td>False</td>\n",
       "    </tr>\n",
       "    <tr>\n",
       "      <th>9999</th>\n",
       "      <td>False</td>\n",
       "      <td>False</td>\n",
       "    </tr>\n",
       "  </tbody>\n",
       "</table>\n",
       "<p>10000 rows × 2 columns</p>\n",
       "</div>"
      ],
      "text/plain": [
       "          0      1\n",
       "0     False  False\n",
       "1     False  False\n",
       "2     False  False\n",
       "3     False  False\n",
       "4     False  False\n",
       "...     ...    ...\n",
       "9995  False  False\n",
       "9996  False  False\n",
       "9997  False  False\n",
       "9998  False  False\n",
       "9999  False  False\n",
       "\n",
       "[10000 rows x 2 columns]"
      ]
     },
     "execution_count": 83,
     "metadata": {},
     "output_type": "execute_result"
    }
   ],
   "source": [
    "# 1.isna\n",
    "pd.isna(df_1)"
   ]
  },
  {
   "cell_type": "code",
   "execution_count": 93,
   "id": "ee797344",
   "metadata": {},
   "outputs": [
    {
     "data": {
      "text/plain": [
       "array([-0.75240029, -0.70202519,  0.05818474, ...,  1.35851447,\n",
       "        0.66805519,  0.19084289])"
      ]
     },
     "execution_count": 93,
     "metadata": {},
     "output_type": "execute_result"
    }
   ],
   "source": [
    "# 2.unique\n",
    "pd.unique(df_1.col_0)"
   ]
  },
  {
   "cell_type": "code",
   "execution_count": 94,
   "id": "1d3e0a91",
   "metadata": {},
   "outputs": [
    {
     "data": {
      "text/plain": [
       "array([[ 7634585772845262507, 12135150636227779081],\n",
       "       [10464312242735351900,  2350742545055361760],\n",
       "       [17269077581764938986, 12506933749259445979],\n",
       "       ...,\n",
       "       [ 9748193589350642000, 16873522593238942483],\n",
       "       [ 9689482023804255381, 14123411589109662788],\n",
       "       [ 8306346313500985809, 11479823394424064329]], dtype=uint64)"
      ]
     },
     "execution_count": 94,
     "metadata": {},
     "output_type": "execute_result"
    }
   ],
   "source": [
    "# 3.hash_array\n",
    "np_arr = df_1.to_numpy()\n",
    "pd.util.hash_array(np_arr,encoding='utf8',hash_key=\"0123493456\",categorize=True)"
   ]
  },
  {
   "cell_type": "code",
   "execution_count": 95,
   "id": "8dca97ac",
   "metadata": {},
   "outputs": [
    {
     "data": {
      "text/plain": [
       "0       (-1.439, 1.072]\n",
       "1       (-1.439, 1.072]\n",
       "2       (-1.439, 1.072]\n",
       "3       (-1.439, 1.072]\n",
       "4       (-1.439, 1.072]\n",
       "             ...       \n",
       "9995    (-1.439, 1.072]\n",
       "9996    (-1.439, 1.072]\n",
       "9997     (1.072, 3.583]\n",
       "9998    (-1.439, 1.072]\n",
       "9999    (-1.439, 1.072]\n",
       "Name: col_0, Length: 10000, dtype: category\n",
       "Categories (3, interval[float64]): [(-3.957, -1.439] < (-1.439, 1.072] < (1.072, 3.583]]"
      ]
     },
     "execution_count": 95,
     "metadata": {},
     "output_type": "execute_result"
    }
   ],
   "source": [
    "# 4.cut\n",
    "pd.cut(df_1.col_0,3)"
   ]
  },
  {
   "cell_type": "code",
   "execution_count": 97,
   "id": "9a48b7b0",
   "metadata": {},
   "outputs": [
    {
     "data": {
      "text/html": [
       "<div>\n",
       "<style scoped>\n",
       "    .dataframe tbody tr th:only-of-type {\n",
       "        vertical-align: middle;\n",
       "    }\n",
       "\n",
       "    .dataframe tbody tr th {\n",
       "        vertical-align: top;\n",
       "    }\n",
       "\n",
       "    .dataframe thead th {\n",
       "        text-align: right;\n",
       "    }\n",
       "</style>\n",
       "<table border=\"1\" class=\"dataframe\">\n",
       "  <thead>\n",
       "    <tr style=\"text-align: right;\">\n",
       "      <th></th>\n",
       "      <th>col_0</th>\n",
       "      <th>col_1</th>\n",
       "      <th>sum</th>\n",
       "    </tr>\n",
       "  </thead>\n",
       "  <tbody>\n",
       "    <tr>\n",
       "      <th>0</th>\n",
       "      <td>-0.752400</td>\n",
       "      <td>-1.992827</td>\n",
       "      <td>-2.745227</td>\n",
       "    </tr>\n",
       "    <tr>\n",
       "      <th>1</th>\n",
       "      <td>-0.702025</td>\n",
       "      <td>-1.935445</td>\n",
       "      <td>-2.637470</td>\n",
       "    </tr>\n",
       "    <tr>\n",
       "      <th>2</th>\n",
       "      <td>0.058185</td>\n",
       "      <td>-1.020321</td>\n",
       "      <td>-0.962136</td>\n",
       "    </tr>\n",
       "    <tr>\n",
       "      <th>3</th>\n",
       "      <td>-0.097662</td>\n",
       "      <td>-1.857889</td>\n",
       "      <td>-1.955551</td>\n",
       "    </tr>\n",
       "    <tr>\n",
       "      <th>4</th>\n",
       "      <td>-0.369050</td>\n",
       "      <td>0.209050</td>\n",
       "      <td>-0.160000</td>\n",
       "    </tr>\n",
       "    <tr>\n",
       "      <th>...</th>\n",
       "      <td>...</td>\n",
       "      <td>...</td>\n",
       "      <td>...</td>\n",
       "    </tr>\n",
       "    <tr>\n",
       "      <th>9995</th>\n",
       "      <td>0.106437</td>\n",
       "      <td>-1.723467</td>\n",
       "      <td>-1.617030</td>\n",
       "    </tr>\n",
       "    <tr>\n",
       "      <th>9996</th>\n",
       "      <td>-0.535412</td>\n",
       "      <td>-2.009323</td>\n",
       "      <td>-2.544735</td>\n",
       "    </tr>\n",
       "    <tr>\n",
       "      <th>9997</th>\n",
       "      <td>1.358514</td>\n",
       "      <td>4.867444</td>\n",
       "      <td>6.225959</td>\n",
       "    </tr>\n",
       "    <tr>\n",
       "      <th>9998</th>\n",
       "      <td>0.668055</td>\n",
       "      <td>2.753525</td>\n",
       "      <td>3.421581</td>\n",
       "    </tr>\n",
       "    <tr>\n",
       "      <th>9999</th>\n",
       "      <td>0.190843</td>\n",
       "      <td>2.156421</td>\n",
       "      <td>2.347264</td>\n",
       "    </tr>\n",
       "  </tbody>\n",
       "</table>\n",
       "<p>10000 rows × 3 columns</p>\n",
       "</div>"
      ],
      "text/plain": [
       "         col_0     col_1       sum\n",
       "0    -0.752400 -1.992827 -2.745227\n",
       "1    -0.702025 -1.935445 -2.637470\n",
       "2     0.058185 -1.020321 -0.962136\n",
       "3    -0.097662 -1.857889 -1.955551\n",
       "4    -0.369050  0.209050 -0.160000\n",
       "...        ...       ...       ...\n",
       "9995  0.106437 -1.723467 -1.617030\n",
       "9996 -0.535412 -2.009323 -2.544735\n",
       "9997  1.358514  4.867444  6.225959\n",
       "9998  0.668055  2.753525  3.421581\n",
       "9999  0.190843  2.156421  2.347264\n",
       "\n",
       "[10000 rows x 3 columns]"
      ]
     },
     "execution_count": 97,
     "metadata": {},
     "output_type": "execute_result"
    }
   ],
   "source": [
    "# 5.to_numeric\n",
    "pd.eval(\"sum = df_1.col_0 + df_1.col_1\", target=df_1)"
   ]
  },
  {
   "cell_type": "markdown",
   "id": "90d23d64",
   "metadata": {},
   "source": [
    "# 3 Plotting"
   ]
  },
  {
   "cell_type": "markdown",
   "id": "662e91bb",
   "metadata": {},
   "source": [
    "## 3.1 read a csv data to pandas dataframe"
   ]
  },
  {
   "cell_type": "code",
   "execution_count": 67,
   "id": "a45798e3",
   "metadata": {},
   "outputs": [
    {
     "name": "stdout",
     "output_type": "stream",
     "text": [
      "             0         1\n",
      "0    -6.283185  0.043487\n",
      "1    -6.281929  0.084347\n",
      "2    -6.280672 -0.028693\n",
      "3    -6.279415  0.021445\n",
      "4    -6.278158  0.020871\n",
      "...        ...       ...\n",
      "9995  6.278158  0.033936\n",
      "9996  6.279415  0.035950\n",
      "9997  6.280672  0.053126\n",
      "9998  6.281929  0.009556\n",
      "9999  6.283185  0.069099\n",
      "\n",
      "[10000 rows x 2 columns]\n"
     ]
    }
   ],
   "source": [
    "#load data\n",
    "df_2 = pd.read_csv('data_2.csv',header=None)\n",
    "print(df_2)"
   ]
  },
  {
   "cell_type": "markdown",
   "id": "98c316dc",
   "metadata": {},
   "source": [
    "## 3.2 plot dataset using matplotlib"
   ]
  },
  {
   "cell_type": "code",
   "execution_count": 74,
   "id": "15b19425",
   "metadata": {},
   "outputs": [
    {
     "data": {
      "text/plain": [
       "[<matplotlib.lines.Line2D at 0x12c8c1470>]"
      ]
     },
     "execution_count": 74,
     "metadata": {},
     "output_type": "execute_result"
    },
    {
     "data": {
      "image/png": "[encoded data removed]",
      "text/plain": [
       "<Figure size 432x288 with 1 Axes>"
      ]
     },
     "metadata": {
      "needs_background": "light"
     },
     "output_type": "display_data"
    }
   ],
   "source": [
    "#plot data_2\n",
    "import matplotlib.pyplot as plt \n",
    "x = np.array(df_2[0])\n",
    "y = np.array(df_2[1])\n",
    "plt.plot(x,y)"
   ]
  },
  {
   "cell_type": "markdown",
   "id": "6512c069",
   "metadata": {},
   "source": [
    "## 3.3 load the tips dataset from seaborn"
   ]
  },
  {
   "cell_type": "code",
   "execution_count": 103,
   "id": "339cd7c9",
   "metadata": {},
   "outputs": [
    {
     "name": "stdout",
     "output_type": "stream",
     "text": [
      "     total_bill   tip     sex smoker   day    time  size\n",
      "0         16.99  1.01  Female     No   Sun  Dinner     2\n",
      "1         10.34  1.66    Male     No   Sun  Dinner     3\n",
      "2         21.01  3.50    Male     No   Sun  Dinner     3\n",
      "3         23.68  3.31    Male     No   Sun  Dinner     2\n",
      "4         24.59  3.61  Female     No   Sun  Dinner     4\n",
      "..          ...   ...     ...    ...   ...     ...   ...\n",
      "239       29.03  5.92    Male     No   Sat  Dinner     3\n",
      "240       27.18  2.00  Female    Yes   Sat  Dinner     2\n",
      "241       22.67  2.00    Male    Yes   Sat  Dinner     2\n",
      "242       17.82  1.75    Male     No   Sat  Dinner     2\n",
      "243       18.78  3.00  Female     No  Thur  Dinner     2\n",
      "\n",
      "[244 rows x 7 columns]\n"
     ]
    }
   ],
   "source": [
    "import seaborn as sns\n",
    "\n",
    "#load tips dataset\n",
    "tips = sns.load_dataset(\"tips\")\n",
    "print(tips)"
   ]
  },
  {
   "cell_type": "markdown",
   "id": "87be204a",
   "metadata": {},
   "source": [
    "## 3.4 plot pairplot, jointplot, catplot, displot, and HeatMap for the above dataset and give your comments on each plot"
   ]
  },
  {
   "cell_type": "code",
   "execution_count": 174,
   "id": "9701766f",
   "metadata": {},
   "outputs": [
    {
     "data": {
      "text/plain": [
       "<seaborn.axisgrid.PairGrid at 0x1340c7e10>"
      ]
     },
     "execution_count": 174,
     "metadata": {},
     "output_type": "execute_result"
    },
    {
     "data": {
      "image/png": "[encoded data removed]",
      "text/plain": [
       "<Figure size 612.625x540 with 12 Axes>"
      ]
     },
     "metadata": {
      "needs_background": "light"
     },
     "output_type": "display_data"
    }
   ],
   "source": [
    "#pairplot\n",
    "sns.pairplot(data=tips, hue=\"sex\")"
   ]
  },
  {
   "cell_type": "markdown",
   "id": "d576a451",
   "metadata": {},
   "source": [
    "There seems to be a linear relationship between total_bill and tip. More men seem to be contributing to high amount of total_bill over women. "
   ]
  },
  {
   "cell_type": "code",
   "execution_count": 115,
   "id": "79e677da",
   "metadata": {},
   "outputs": [
    {
     "data": {
      "text/plain": [
       "<seaborn.axisgrid.JointGrid at 0x1304417b8>"
      ]
     },
     "execution_count": 115,
     "metadata": {},
     "output_type": "execute_result"
    },
    {
     "data": {
      "image/png": "[encoded data removed]",
      "text/plain": [
       "<Figure size 432x432 with 3 Axes>"
      ]
     },
     "metadata": {
      "needs_background": "light"
     },
     "output_type": "display_data"
    }
   ],
   "source": [
    "#jointplot\n",
    "sns.jointplot(data=tips, x=\"total_bill\", y=\"tip\", hue=\"sex\")\n"
   ]
  },
  {
   "cell_type": "markdown",
   "id": "b2926e6e",
   "metadata": {},
   "source": [
    "A linear relationship can be observed between tip and total_bill. Sex could be a contributing factor in determining the tip"
   ]
  },
  {
   "cell_type": "code",
   "execution_count": 183,
   "id": "0c16acf6",
   "metadata": {},
   "outputs": [
    {
     "data": {
      "text/plain": [
       "<seaborn.axisgrid.FacetGrid at 0x135248e10>"
      ]
     },
     "execution_count": 183,
     "metadata": {},
     "output_type": "execute_result"
    },
    {
     "data": {
      "image/png": "[encoded data removed]",
      "text/plain": [
       "<Figure size 432.625x360 with 1 Axes>"
      ]
     },
     "metadata": {
      "needs_background": "light"
     },
     "output_type": "display_data"
    }
   ],
   "source": [
    "#catplot\n",
    "sns.catplot(data=tips, kind=\"violin\", x=\"day\", y=\"total_bill\", hue=\"sex\", split=True)"
   ]
  },
  {
   "cell_type": "markdown",
   "id": "44479eae",
   "metadata": {},
   "source": [
    "The distribution between genders on friday has the largest difference. The median total_bill is slightly high during weekends(Sat and Sun)."
   ]
  },
  {
   "cell_type": "code",
   "execution_count": 107,
   "id": "37590b38",
   "metadata": {},
   "outputs": [
    {
     "name": "stderr",
     "output_type": "stream",
     "text": [
      "/Library/Frameworks/Python.framework/Versions/3.6/lib/python3.6/site-packages/matplotlib/cbook/__init__.py:1377: FutureWarning: Support for multi-dimensional indexing (e.g. `obj[:, None]`) is deprecated and will be removed in a future version.  Convert to a numpy array before indexing instead.\n",
      "  x[:, None]\n",
      "/Library/Frameworks/Python.framework/Versions/3.6/lib/python3.6/site-packages/matplotlib/axes/_base.py:237: FutureWarning: Support for multi-dimensional indexing (e.g. `obj[:, None]`) is deprecated and will be removed in a future version.  Convert to a numpy array before indexing instead.\n",
      "  x = x[:, np.newaxis]\n",
      "/Library/Frameworks/Python.framework/Versions/3.6/lib/python3.6/site-packages/matplotlib/axes/_base.py:239: FutureWarning: Support for multi-dimensional indexing (e.g. `obj[:, None]`) is deprecated and will be removed in a future version.  Convert to a numpy array before indexing instead.\n",
      "  y = y[:, np.newaxis]\n"
     ]
    },
    {
     "data": {
      "text/plain": [
       "<seaborn.axisgrid.FacetGrid at 0x12cb0ccf8>"
      ]
     },
     "execution_count": 107,
     "metadata": {},
     "output_type": "execute_result"
    },
    {
     "data": {
      "image/png": "[encoded data removed]",
      "text/plain": [
       "<Figure size 720x360 with 2 Axes>"
      ]
     },
     "metadata": {
      "needs_background": "light"
     },
     "output_type": "display_data"
    }
   ],
   "source": [
    "#displot\n",
    "sns.displot(data=tips,x=\"tip\",col=\"time\",kde=True)"
   ]
  },
  {
   "cell_type": "markdown",
   "id": "b1b0ef14",
   "metadata": {},
   "source": [
    "Although maxinum value of tip is with in $8 for both lunch and dinner, the number of tips seems to high during dinner."
   ]
  },
  {
   "cell_type": "code",
   "execution_count": 119,
   "id": "9bdd7b8b",
   "metadata": {},
   "outputs": [
    {
     "data": {
      "text/plain": [
       "<matplotlib.axes._subplots.AxesSubplot at 0x1314dc5f8>"
      ]
     },
     "execution_count": 119,
     "metadata": {},
     "output_type": "execute_result"
    },
    {
     "data": {
      "image/png": "[encoded data removed]",
      "text/plain": [
       "<Figure size 432x288 with 2 Axes>"
      ]
     },
     "metadata": {
      "needs_background": "light"
     },
     "output_type": "display_data"
    }
   ],
   "source": [
    "#heatmap\n",
    "corr = tips.corr()\n",
    "sns.heatmap(corr,annot = True)"
   ]
  },
  {
   "cell_type": "markdown",
   "id": "4d6ac9a9",
   "metadata": {},
   "source": [
    "There seems a positive correlation among total_bill and tip, total_bill and size and also the size and tip. There are no negetaive correlations."
   ]
  }
 ],
 "metadata": {
  "kernelspec": {
   "display_name": "Python 3",
   "language": "python",
   "name": "python3"
  },
  "language_info": {
   "codemirror_mode": {
    "name": "ipython",
    "version": 3
   },
   "file_extension": ".py",
   "mimetype": "text/x-python",
   "name": "python",
   "nbconvert_exporter": "python",
   "pygments_lexer": "ipython3",
   "version": "3.6.2"
  }
 },
 "nbformat": 4,
 "nbformat_minor": 5
}
